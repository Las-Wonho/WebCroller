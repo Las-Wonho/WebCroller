{
 "cells": [
  {
   "cell_type": "code",
   "execution_count": 1,
   "metadata": {},
   "outputs": [],
   "source": [
    "from selenium import webdriver\n",
    "from time import sleep"
   ]
  },
  {
   "cell_type": "code",
   "execution_count": 2,
   "metadata": {},
   "outputs": [],
   "source": [
    "driver_Path=\"./chromedriver.exe\"\n",
    "driver = webdriver.Chrome(driver_Path)\n",
    "driver.implicitly_wait(3)"
   ]
  },
  {
   "cell_type": "code",
   "execution_count": 10,
   "metadata": {},
   "outputs": [
    {
     "name": "stdout",
     "output_type": "stream",
     "text": [
      "0\n",
      "1\n",
      "2\n",
      "3\n",
      "4\n",
      "5\n",
      "6\n",
      "7\n",
      "8\n",
      "9\n",
      "10\n",
      "11\n",
      "12\n",
      "13\n",
      "14\n",
      "15\n",
      "16\n",
      "17\n",
      "18\n",
      "19\n",
      "20\n",
      "21\n",
      "22\n",
      "23\n",
      "24\n",
      "25\n",
      "26\n",
      "27\n",
      "28\n",
      "29\n",
      "30\n",
      "31\n",
      "32\n",
      "33\n",
      "34\n",
      "35\n",
      "36\n",
      "37\n",
      "38\n",
      "39\n",
      "40\n",
      "41\n",
      "42\n",
      "43\n",
      "44\n",
      "45\n",
      "46\n",
      "47\n",
      "48\n",
      "49\n",
      "50\n",
      "51\n",
      "52\n",
      "53\n",
      "54\n",
      "55\n",
      "56\n",
      "57\n",
      "58\n",
      "59\n",
      "60\n",
      "61\n",
      "62\n",
      "63\n",
      "64\n",
      "65\n",
      "66\n",
      "67\n",
      "68\n",
      "69\n",
      "70\n",
      "71\n",
      "72\n",
      "73\n",
      "74\n",
      "75\n",
      "76\n",
      "77\n",
      "78\n",
      "79\n",
      "80\n",
      "81\n",
      "82\n",
      "83\n",
      "84\n",
      "85\n",
      "86\n",
      "87\n",
      "88\n",
      "89\n",
      "90\n",
      "91\n",
      "92\n",
      "93\n",
      "94\n",
      "95\n",
      "96\n",
      "97\n",
      "98\n",
      "99\n",
      "100\n",
      "101\n",
      "102\n",
      "103\n",
      "104\n",
      "105\n",
      "106\n",
      "107\n",
      "108\n",
      "109\n",
      "110\n",
      "111\n",
      "112\n",
      "113\n",
      "114\n",
      "115\n",
      "116\n",
      "0\n",
      "1\n"
     ]
    }
   ],
   "source": [
    "#221441245437\n",
    "#220767306556\n",
    "get_right_nobel('snikerz1997/220959166812', \"미소녀가말걸어옴\", 121)"
   ]
  },
  {
   "cell_type": "code",
   "execution_count": 4,
   "metadata": {},
   "outputs": [],
   "source": [
    "def get_right_nobel(link, name, no):\n",
    "    link = f\"https://m.blog.naver.com/{link}\"\n",
    "    driver.get(link)\n",
    "    make_text(name, no)"
   ]
  },
  {
   "cell_type": "code",
   "execution_count": 5,
   "metadata": {},
   "outputs": [],
   "source": [
    "def make_text(name, number=10):\n",
    "    with open('./%s.txt'%name, 'w+', encoding='UTF-8') as f:\n",
    "        \"\"\"\n",
    "        Head\n",
    "        \"\"\"\n",
    "        f.write(get_text_from_article(driver))\n",
    "        next_article(driver, 3)\n",
    "        sleep(0.5)\n",
    "        f.write(get_text_from_article(driver))\n",
    "        \"\"\"\n",
    "        Middle\n",
    "        \"\"\"\n",
    "        for i in range(number - 4):\n",
    "            sleep(0.5)\n",
    "            next_article(driver)\n",
    "            f.write(get_text_from_article(driver))\n",
    "            print(i)\n",
    "        \"\"\"\n",
    "        Last5\n",
    "        \"\"\"\n",
    "        for i in range(2):\n",
    "            sleep(0.5)\n",
    "            next_article(driver, 1 - i)\n",
    "            f.write(get_text_from_article(driver))\n",
    "            print(i)"
   ]
  },
  {
   "cell_type": "code",
   "execution_count": 6,
   "metadata": {},
   "outputs": [],
   "source": [
    "def get_text_from_article(driver):\n",
    "    try: \n",
    "        return driver.find_element_by_xpath('//*[@id=\"viewTypeSelector\"]').text\n",
    "    except Exception:\n",
    "        driver.refresh()\n",
    "        sleep(1)\n",
    "        return driver.find_element_by_xpath('//*[@id=\"viewTypeSelector\"]').text"
   ]
  },
  {
   "cell_type": "code",
   "execution_count": 7,
   "metadata": {},
   "outputs": [],
   "source": [
    "def next_article(driver, no=1):\n",
    "    category = click_category(driver)\n",
    "    if not category:\n",
    "        driver.refresh()\n",
    "        sleep(0.5)\n",
    "    result = move_other(category, no)\n",
    "    if not result:\n",
    "        move_other(category, no)"
   ]
  },
  {
   "cell_type": "code",
   "execution_count": 8,
   "metadata": {},
   "outputs": [],
   "source": [
    "def click_category(driver):\n",
    "    try:\n",
    "        return driver.find_element_by_xpath('//*[@id=\"_relatedCategoryPostListFlickingPage_0\"]')\n",
    "    except Exception:\n",
    "        return False"
   ]
  },
  {
   "cell_type": "code",
   "execution_count": 9,
   "metadata": {},
   "outputs": [],
   "source": [
    "def move_other(click_category, no):\n",
    "    try:\n",
    "        click_category.find_elements_by_tag_name('li')[no].click()\n",
    "        return True\n",
    "    except Exception:\n",
    "        return False"
   ]
  },
  {
   "cell_type": "code",
   "execution_count": 10,
   "metadata": {},
   "outputs": [],
   "source": [
    "a = \"qwe\""
   ]
  },
  {
   "cell_type": "code",
   "execution_count": null,
   "metadata": {},
   "outputs": [],
   "source": []
  },
  {
   "cell_type": "code",
   "execution_count": null,
   "metadata": {},
   "outputs": [],
   "source": []
  },
  {
   "cell_type": "code",
   "execution_count": null,
   "metadata": {},
   "outputs": [],
   "source": []
  }
 ],
 "metadata": {
  "kernelspec": {
   "display_name": "Python 3",
   "language": "python",
   "name": "python3"
  },
  "language_info": {
   "codemirror_mode": {
    "name": "ipython",
    "version": 3
   },
   "file_extension": ".py",
   "mimetype": "text/x-python",
   "name": "python",
   "nbconvert_exporter": "python",
   "pygments_lexer": "ipython3",
   "version": "3.6.5"
  }
 },
 "nbformat": 4,
 "nbformat_minor": 2
}
