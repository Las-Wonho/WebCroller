{
 "cells": [
  {
   "cell_type": "code",
   "execution_count": 1,
   "metadata": {},
   "outputs": [],
   "source": [
    "import selenium as sl\n",
    "from selenium import webdriver\n",
    "from time import sleep as wait"
   ]
  },
  {
   "cell_type": "code",
   "execution_count": 2,
   "metadata": {},
   "outputs": [],
   "source": [
    "driver_Path=\"./chromedriver.exe\"\n",
    "driver = webdriver.Chrome(driver_Path)\n",
    "driver.implicitly_wait(3)"
   ]
  },
  {
   "cell_type": "code",
   "execution_count": 3,
   "metadata": {},
   "outputs": [],
   "source": [
    "import os\n",
    "def make_dir(x):\n",
    "    try:\n",
    "        os.makedirs(x)\n",
    "    except OSError:\n",
    "        pass"
   ]
  },
  {
   "cell_type": "code",
   "execution_count": 10,
   "metadata": {},
   "outputs": [],
   "source": [
    "def click_in_day_webtoon(x):\n",
    "    x.find_element_by_tag_name(\"dt\").click()\n",
    "    \n",
    "def return_toons():\n",
    "    return driver.find_elements_by_xpath(\"\"\"//*[@id=\"content\"]/div[3]/ul/li\"\"\")\n",
    "def a():\n",
    "    driver.get(First_Page)\n",
    "    day_webtoons=driver.find_elements_by_xpath(\"\"\"//*[@id=\"content\"]/div[3]/ul/li\"\"\")\n",
    "    #day_webtoons=day_webtoons_pr.find_elements_by_tag_name(\"li\")\n",
    "    toons_num=len(day_webtoons)\n",
    "    print(toons_num)\n",
    "    return toons_num"
   ]
  },
  {
   "cell_type": "code",
   "execution_count": 1,
   "metadata": {
    "scrolled": true
   },
   "outputs": [
    {
     "data": {
      "text/plain": [
       "'\\ndays=[\"fri\",\"mon\",\"tue\",\"wed\",\"thu\",\"fri\",\"sat\",\"sun\"]\\ntoon_list_link=[]\\nfor day in days:\\n    First_Page=\"http://comic.naver.com/webtoon/weekdayList.nhn?week=\"+day\\n    day_toons_num=a()\\n    print(day+\"-day start\")\\n    for toon_num in range(day_toons_num):\\n        driver.get(First_Page)\\n        day_webtoons = driver.find_elements_by_xpath(\"\"\"//*[@id=\"content\"]/div[3]/ul/li\"\"\")\\n        day_webtoons[toon_num].find_element_by_tag_name(\"dt\").click()\\n        try:\\n            go_first=driver.find_element_by_xpath(\"\"\"//*[@id=\"content\"]/div[1]/div[2]/ul/li[2]/a\"\"\")\\n        except:\\n            go_first=driver.find_element_by_xpath(\"\"\"//*[@id=\"content\"]/div[2]/div[2]/ul/li[2]/a\"\"\")\\n        go_first.click()\\n        try:\\n            path=\"\"\"//*[@id=\"content_image_0\"]\"\"\"\\n            toon_path=driver.find_element_by_xpath(path).get_attribute(\"src\")\\n            toon_list_link.append(toon_path)\\n            print(toon_path)\\n        except:\\n            print(\"ERROR\")\\n'"
      ]
     },
     "execution_count": 1,
     "metadata": {},
     "output_type": "execute_result"
    }
   ],
   "source": [
    "'''\n",
    "days=[\"fri\",\"mon\",\"tue\",\"wed\",\"thu\",\"fri\",\"sat\",\"sun\"]\n",
    "toon_list_link=[]\n",
    "for day in days:\n",
    "    First_Page=\"http://comic.naver.com/webtoon/weekdayList.nhn?week=\"+day\n",
    "    day_toons_num=a()\n",
    "    print(day+\"-day start\")\n",
    "    for toon_num in range(day_toons_num):\n",
    "        driver.get(First_Page)\n",
    "        day_webtoons = driver.find_elements_by_xpath(\"\"\"//*[@id=\"content\"]/div[3]/ul/li\"\"\")\n",
    "        day_webtoons[toon_num].find_element_by_tag_name(\"dt\").click()\n",
    "        try:\n",
    "            go_first=driver.find_element_by_xpath(\"\"\"//*[@id=\"content\"]/div[1]/div[2]/ul/li[2]/a\"\"\")\n",
    "        except:\n",
    "            go_first=driver.find_element_by_xpath(\"\"\"//*[@id=\"content\"]/div[2]/div[2]/ul/li[2]/a\"\"\")\n",
    "        go_first.click()\n",
    "        try:\n",
    "            path=\"\"\"//*[@id=\"content_image_0\"]\"\"\"\n",
    "            toon_path=driver.find_element_by_xpath(path).get_attribute(\"src\")\n",
    "            toon_list_link.append(toon_path)\n",
    "            print(toon_path)\n",
    "        except:\n",
    "            print(\"ERROR\")\n",
    "'''"
   ]
  },
  {
   "cell_type": "code",
   "execution_count": 12,
   "metadata": {
    "scrolled": false
   },
   "outputs": [
    {
     "ename": "WebDriverException",
     "evalue": "Message: chrome not reachable\n  (Session info: chrome=65.0.3325.181)\n  (Driver info: chromedriver=2.34.522940 (1a76f96f66e3ca7b8e57d503b4dd3bccfba87af1),platform=Windows NT 10.0.16299 x86_64)\n",
     "output_type": "error",
     "traceback": [
      "\u001b[1;31m---------------------------------------------------------------------------\u001b[0m",
      "\u001b[1;31mWebDriverException\u001b[0m                        Traceback (most recent call last)",
      "\u001b[1;32m<ipython-input-12-fa82a898f778>\u001b[0m in \u001b[0;36m<module>\u001b[1;34m()\u001b[0m\n\u001b[0;32m      3\u001b[0m \u001b[1;32mfor\u001b[0m \u001b[0mday\u001b[0m \u001b[1;32min\u001b[0m \u001b[0mdays\u001b[0m\u001b[1;33m:\u001b[0m\u001b[1;33m\u001b[0m\u001b[0m\n\u001b[0;32m      4\u001b[0m     \u001b[0mFirst_Page\u001b[0m\u001b[1;33m=\u001b[0m\u001b[1;34m\"http://comic.naver.com/webtoon/weekdayList.nhn?week=\"\u001b[0m\u001b[1;33m+\u001b[0m\u001b[0mday\u001b[0m\u001b[1;33m\u001b[0m\u001b[0m\n\u001b[1;32m----> 5\u001b[1;33m     \u001b[0mday_toons_num\u001b[0m\u001b[1;33m=\u001b[0m\u001b[0ma\u001b[0m\u001b[1;33m(\u001b[0m\u001b[1;33m)\u001b[0m\u001b[1;33m\u001b[0m\u001b[0m\n\u001b[0m\u001b[0;32m      6\u001b[0m     \u001b[0mprint\u001b[0m\u001b[1;33m(\u001b[0m\u001b[0mday\u001b[0m\u001b[1;33m+\u001b[0m\u001b[1;34m\"-day start\"\u001b[0m\u001b[1;33m)\u001b[0m\u001b[1;33m\u001b[0m\u001b[0m\n\u001b[0;32m      7\u001b[0m     \u001b[1;32mfor\u001b[0m \u001b[0mtoon_num\u001b[0m \u001b[1;32min\u001b[0m \u001b[0mrange\u001b[0m\u001b[1;33m(\u001b[0m\u001b[0mday_toons_num\u001b[0m\u001b[1;33m)\u001b[0m\u001b[1;33m:\u001b[0m\u001b[1;33m\u001b[0m\u001b[0m\n",
      "\u001b[1;32m<ipython-input-10-65256e6b6b1f>\u001b[0m in \u001b[0;36ma\u001b[1;34m()\u001b[0m\n\u001b[0;32m      5\u001b[0m     \u001b[1;32mreturn\u001b[0m \u001b[0mdriver\u001b[0m\u001b[1;33m.\u001b[0m\u001b[0mfind_elements_by_xpath\u001b[0m\u001b[1;33m(\u001b[0m\u001b[1;34m\"\"\"//*[@id=\"content\"]/div[3]/ul/li\"\"\"\u001b[0m\u001b[1;33m)\u001b[0m\u001b[1;33m\u001b[0m\u001b[0m\n\u001b[0;32m      6\u001b[0m \u001b[1;32mdef\u001b[0m \u001b[0ma\u001b[0m\u001b[1;33m(\u001b[0m\u001b[1;33m)\u001b[0m\u001b[1;33m:\u001b[0m\u001b[1;33m\u001b[0m\u001b[0m\n\u001b[1;32m----> 7\u001b[1;33m     \u001b[0mdriver\u001b[0m\u001b[1;33m.\u001b[0m\u001b[0mget\u001b[0m\u001b[1;33m(\u001b[0m\u001b[0mFirst_Page\u001b[0m\u001b[1;33m)\u001b[0m\u001b[1;33m\u001b[0m\u001b[0m\n\u001b[0m\u001b[0;32m      8\u001b[0m     \u001b[0mday_webtoons\u001b[0m\u001b[1;33m=\u001b[0m\u001b[0mdriver\u001b[0m\u001b[1;33m.\u001b[0m\u001b[0mfind_elements_by_xpath\u001b[0m\u001b[1;33m(\u001b[0m\u001b[1;34m\"\"\"//*[@id=\"content\"]/div[3]/ul/li\"\"\"\u001b[0m\u001b[1;33m)\u001b[0m\u001b[1;33m\u001b[0m\u001b[0m\n\u001b[0;32m      9\u001b[0m     \u001b[1;31m#day_webtoons=day_webtoons_pr.find_elements_by_tag_name(\"li\")\u001b[0m\u001b[1;33m\u001b[0m\u001b[1;33m\u001b[0m\u001b[0m\n",
      "\u001b[1;32mD:\\LLAS\\lib\\site-packages\\selenium\\webdriver\\remote\\webdriver.py\u001b[0m in \u001b[0;36mget\u001b[1;34m(self, url)\u001b[0m\n\u001b[0;32m    322\u001b[0m         \u001b[0mLoads\u001b[0m \u001b[0ma\u001b[0m \u001b[0mweb\u001b[0m \u001b[0mpage\u001b[0m \u001b[1;32min\u001b[0m \u001b[0mthe\u001b[0m \u001b[0mcurrent\u001b[0m \u001b[0mbrowser\u001b[0m \u001b[0msession\u001b[0m\u001b[1;33m.\u001b[0m\u001b[1;33m\u001b[0m\u001b[0m\n\u001b[0;32m    323\u001b[0m         \"\"\"\n\u001b[1;32m--> 324\u001b[1;33m         \u001b[0mself\u001b[0m\u001b[1;33m.\u001b[0m\u001b[0mexecute\u001b[0m\u001b[1;33m(\u001b[0m\u001b[0mCommand\u001b[0m\u001b[1;33m.\u001b[0m\u001b[0mGET\u001b[0m\u001b[1;33m,\u001b[0m \u001b[1;33m{\u001b[0m\u001b[1;34m'url'\u001b[0m\u001b[1;33m:\u001b[0m \u001b[0murl\u001b[0m\u001b[1;33m}\u001b[0m\u001b[1;33m)\u001b[0m\u001b[1;33m\u001b[0m\u001b[0m\n\u001b[0m\u001b[0;32m    325\u001b[0m \u001b[1;33m\u001b[0m\u001b[0m\n\u001b[0;32m    326\u001b[0m     \u001b[1;33m@\u001b[0m\u001b[0mproperty\u001b[0m\u001b[1;33m\u001b[0m\u001b[0m\n",
      "\u001b[1;32mD:\\LLAS\\lib\\site-packages\\selenium\\webdriver\\remote\\webdriver.py\u001b[0m in \u001b[0;36mexecute\u001b[1;34m(self, driver_command, params)\u001b[0m\n\u001b[0;32m    310\u001b[0m         \u001b[0mresponse\u001b[0m \u001b[1;33m=\u001b[0m \u001b[0mself\u001b[0m\u001b[1;33m.\u001b[0m\u001b[0mcommand_executor\u001b[0m\u001b[1;33m.\u001b[0m\u001b[0mexecute\u001b[0m\u001b[1;33m(\u001b[0m\u001b[0mdriver_command\u001b[0m\u001b[1;33m,\u001b[0m \u001b[0mparams\u001b[0m\u001b[1;33m)\u001b[0m\u001b[1;33m\u001b[0m\u001b[0m\n\u001b[0;32m    311\u001b[0m         \u001b[1;32mif\u001b[0m \u001b[0mresponse\u001b[0m\u001b[1;33m:\u001b[0m\u001b[1;33m\u001b[0m\u001b[0m\n\u001b[1;32m--> 312\u001b[1;33m             \u001b[0mself\u001b[0m\u001b[1;33m.\u001b[0m\u001b[0merror_handler\u001b[0m\u001b[1;33m.\u001b[0m\u001b[0mcheck_response\u001b[0m\u001b[1;33m(\u001b[0m\u001b[0mresponse\u001b[0m\u001b[1;33m)\u001b[0m\u001b[1;33m\u001b[0m\u001b[0m\n\u001b[0m\u001b[0;32m    313\u001b[0m             response['value'] = self._unwrap_value(\n\u001b[0;32m    314\u001b[0m                 response.get('value', None))\n",
      "\u001b[1;32mD:\\LLAS\\lib\\site-packages\\selenium\\webdriver\\remote\\errorhandler.py\u001b[0m in \u001b[0;36mcheck_response\u001b[1;34m(self, response)\u001b[0m\n\u001b[0;32m    240\u001b[0m                 \u001b[0malert_text\u001b[0m \u001b[1;33m=\u001b[0m \u001b[0mvalue\u001b[0m\u001b[1;33m[\u001b[0m\u001b[1;34m'alert'\u001b[0m\u001b[1;33m]\u001b[0m\u001b[1;33m.\u001b[0m\u001b[0mget\u001b[0m\u001b[1;33m(\u001b[0m\u001b[1;34m'text'\u001b[0m\u001b[1;33m)\u001b[0m\u001b[1;33m\u001b[0m\u001b[0m\n\u001b[0;32m    241\u001b[0m             \u001b[1;32mraise\u001b[0m \u001b[0mexception_class\u001b[0m\u001b[1;33m(\u001b[0m\u001b[0mmessage\u001b[0m\u001b[1;33m,\u001b[0m \u001b[0mscreen\u001b[0m\u001b[1;33m,\u001b[0m \u001b[0mstacktrace\u001b[0m\u001b[1;33m,\u001b[0m \u001b[0malert_text\u001b[0m\u001b[1;33m)\u001b[0m\u001b[1;33m\u001b[0m\u001b[0m\n\u001b[1;32m--> 242\u001b[1;33m         \u001b[1;32mraise\u001b[0m \u001b[0mexception_class\u001b[0m\u001b[1;33m(\u001b[0m\u001b[0mmessage\u001b[0m\u001b[1;33m,\u001b[0m \u001b[0mscreen\u001b[0m\u001b[1;33m,\u001b[0m \u001b[0mstacktrace\u001b[0m\u001b[1;33m)\u001b[0m\u001b[1;33m\u001b[0m\u001b[0m\n\u001b[0m\u001b[0;32m    243\u001b[0m \u001b[1;33m\u001b[0m\u001b[0m\n\u001b[0;32m    244\u001b[0m     \u001b[1;32mdef\u001b[0m \u001b[0m_value_or_default\u001b[0m\u001b[1;33m(\u001b[0m\u001b[0mself\u001b[0m\u001b[1;33m,\u001b[0m \u001b[0mobj\u001b[0m\u001b[1;33m,\u001b[0m \u001b[0mkey\u001b[0m\u001b[1;33m,\u001b[0m \u001b[0mdefault\u001b[0m\u001b[1;33m)\u001b[0m\u001b[1;33m:\u001b[0m\u001b[1;33m\u001b[0m\u001b[0m\n",
      "\u001b[1;31mWebDriverException\u001b[0m: Message: chrome not reachable\n  (Session info: chrome=65.0.3325.181)\n  (Driver info: chromedriver=2.34.522940 (1a76f96f66e3ca7b8e57d503b4dd3bccfba87af1),platform=Windows NT 10.0.16299 x86_64)\n"
     ]
    }
   ],
   "source": [
    "days=[\"mon\",\"tue\",\"wed\",\"thu\",\"fri\",\"sat\",\"sun\"]\n",
    "toon_list_link=[]\n",
    "for day in days:\n",
    "    First_Page=\"http://comic.naver.com/webtoon/weekdayList.nhn?week=\"+day\n",
    "    day_toons_num=a()\n",
    "    print(day+\"-day start\")\n",
    "    for toon_num in range(day_toons_num):\n",
    "        driver.get(First_Page)\n",
    "        day_webtoons = driver.find_elements_by_xpath(\"\"\"//*[@id=\"content\"]/div[3]/ul/li\"\"\")\n",
    "        day_webtoons[toon_num].find_element_by_tag_name(\"dt\").click()\n",
    "        wait(0)\n",
    "        try:\n",
    "            go_first=driver.find_element_by_xpath(\"\"\"//*[@id=\"content\"]/div[1]/div[2]/ul/li[2]/a\"\"\")\n",
    "        except:\n",
    "            go_first=driver.find_element_by_xpath(\"\"\"//*[@id=\"content\"]/div[2]/div[2]/ul/li[2]/a\"\"\")\n",
    "        go_first.click()\n",
    "        wait(0)\n",
    "        try:\n",
    "            count=1\n",
    "            while(True):\n",
    "                next_loop=\"\"\"#content > div.section_cont.wide > div.tit_area > div.view > div > span > a\"\"\"\n",
    "                noxt_loop_=\"\"\"#content > div.section_cont.wide > div.tit_area > div.view > div > span.next > a\"\"\"\n",
    "                path=\"\"\"//*[@id=\"comic_view_area\"]/div[1]\"\"\"\n",
    "                for i in range(len(driver.find_element_by_xpath(path).find_elements_by_tag_name(\"img\"))):\n",
    "                    toon_path=driver.find_element_by_xpath(path).find_elements_by_tag_name(\"img\")[i].get_attribute(\"src\")\n",
    "                    toon_list_link.append(toon_path)\n",
    "                    print(toon_path)\n",
    "                    print(driver.get_cookies())\n",
    "                    \n",
    "                if(count==1):\n",
    "                    driver.find_element_by_css_selector(next_loop).click()\n",
    "                else:\n",
    "                    driver.find_element_by_css_selector(noxt_loop_).click()\n",
    "                    print(\"Next page\")\n",
    "                #make_dir(\"./first\"+str(count))\n",
    "                count+=1\n",
    "        except:\n",
    "            print(\"ERROR\")"
   ]
  },
  {
   "cell_type": "code",
   "execution_count": 15,
   "metadata": {},
   "outputs": [],
   "source": [
    "get_file(5)"
   ]
  },
  {
   "cell_type": "code",
   "execution_count": null,
   "metadata": {},
   "outputs": [],
   "source": []
  }
 ],
 "metadata": {
  "kernelspec": {
   "display_name": "Python 3",
   "language": "python",
   "name": "python3"
  },
  "language_info": {
   "codemirror_mode": {
    "name": "ipython",
    "version": 3
   },
   "file_extension": ".py",
   "mimetype": "text/x-python",
   "name": "python",
   "nbconvert_exporter": "python",
   "pygments_lexer": "ipython3",
   "version": "3.6.4"
  }
 },
 "nbformat": 4,
 "nbformat_minor": 2
}
