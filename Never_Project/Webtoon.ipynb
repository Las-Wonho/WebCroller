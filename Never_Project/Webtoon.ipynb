{
 "cells": [
  {
   "cell_type": "code",
   "execution_count": 1,
   "metadata": {},
   "outputs": [],
   "source": [
    "import selenium as sl\n",
    "from selenium import webdriver\n",
    "from time import sleep as wait"
   ]
  },
  {
   "cell_type": "code",
   "execution_count": 7,
   "metadata": {},
   "outputs": [],
   "source": [
    "driver_Path=\"./chromedriver.exe\"\n",
    "driver = webdriver.Chrome(driver_Path)\n",
    "driver.implicitly_wait(3)"
   ]
  },
  {
   "cell_type": "code",
   "execution_count": 4,
   "metadata": {},
   "outputs": [],
   "source": [
    "import os\n",
    "def make_dir(x):\n",
    "    try:\n",
    "        os.makedirs(x)\n",
    "    except OSError:\n",
    "        pass"
   ]
  },
  {
   "cell_type": "code",
   "execution_count": 3,
   "metadata": {},
   "outputs": [],
   "source": [
    "def click_in_day_webtoon(x):\n",
    "    x.find_element_by_tag_name(\"dt\").click()\n",
    "    \n",
    "def return_toons():\n",
    "    return driver.find_elements_by_xpath(\"\"\"//*[@id=\"content\"]/div[3]/ul/li\"\"\")\n",
    "def a():\n",
    "    driver.get(First_Page)\n",
    "    day_webtoons=driver.find_elements_by_xpath(\"\"\"//*[@id=\"content\"]/div[3]/ul/li\"\"\")\n",
    "    #day_webtoons=day_webtoons_pr.find_elements_by_tag_name(\"li\")\n",
    "    toons_num=len(day_webtoons)\n",
    "    print(toons_num)\n",
    "    return toons_num"
   ]
  },
  {
   "cell_type": "code",
   "execution_count": 1,
   "metadata": {
    "scrolled": true
   },
   "outputs": [
    {
     "data": {
      "text/plain": [
       "'\\ndays=[\"fri\",\"mon\",\"tue\",\"wed\",\"thu\",\"fri\",\"sat\",\"sun\"]\\ntoon_list_link=[]\\nfor day in days:\\n    First_Page=\"http://comic.naver.com/webtoon/weekdayList.nhn?week=\"+day\\n    day_toons_num=a()\\n    print(day+\"-day start\")\\n    for toon_num in range(day_toons_num):\\n        driver.get(First_Page)\\n        day_webtoons = driver.find_elements_by_xpath(\"\"\"//*[@id=\"content\"]/div[3]/ul/li\"\"\")\\n        day_webtoons[toon_num].find_element_by_tag_name(\"dt\").click()\\n        try:\\n            go_first=driver.find_element_by_xpath(\"\"\"//*[@id=\"content\"]/div[1]/div[2]/ul/li[2]/a\"\"\")\\n        except:\\n            go_first=driver.find_element_by_xpath(\"\"\"//*[@id=\"content\"]/div[2]/div[2]/ul/li[2]/a\"\"\")\\n        go_first.click()\\n        try:\\n            path=\"\"\"//*[@id=\"content_image_0\"]\"\"\"\\n            toon_path=driver.find_element_by_xpath(path).get_attribute(\"src\")\\n            toon_list_link.append(toon_path)\\n            print(toon_path)\\n        except:\\n            print(\"ERROR\")\\n'"
      ]
     },
     "execution_count": 1,
     "metadata": {},
     "output_type": "execute_result"
    }
   ],
   "source": [
    "'''\n",
    "days=[\"fri\",\"mon\",\"tue\",\"wed\",\"thu\",\"fri\",\"sat\",\"sun\"]\n",
    "toon_list_link=[]\n",
    "for day in days:\n",
    "    First_Page=\"http://comic.naver.com/webtoon/weekdayList.nhn?week=\"+day\n",
    "    day_toons_num=a()\n",
    "    print(day+\"-day start\")\n",
    "    for toon_num in range(day_toons_num):\n",
    "        driver.get(First_Page)\n",
    "        day_webtoons = driver.find_elements_by_xpath(\"\"\"//*[@id=\"content\"]/div[3]/ul/li\"\"\")\n",
    "        day_webtoons[toon_num].find_element_by_tag_name(\"dt\").click()\n",
    "        try:\n",
    "            go_first=driver.find_element_by_xpath(\"\"\"//*[@id=\"content\"]/div[1]/div[2]/ul/li[2]/a\"\"\")\n",
    "        except:\n",
    "            go_first=driver.find_element_by_xpath(\"\"\"//*[@id=\"content\"]/div[2]/div[2]/ul/li[2]/a\"\"\")\n",
    "        go_first.click()\n",
    "        try:\n",
    "            path=\"\"\"//*[@id=\"content_image_0\"]\"\"\"\n",
    "            toon_path=driver.find_element_by_xpath(path).get_attribute(\"src\")\n",
    "            toon_list_link.append(toon_path)\n",
    "            print(toon_path)\n",
    "        except:\n",
    "            print(\"ERROR\")\n",
    "'''"
   ]
  },
  {
   "cell_type": "code",
   "execution_count": null,
   "metadata": {
    "scrolled": true
   },
   "outputs": [
    {
     "name": "stdout",
     "output_type": "stream",
     "text": [
      "27\n",
      "mon-day start\n",
      "http://imgcomic.naver.net/webtoon/183559/1/20100630151359_IMAG01_1.jpg\n"
     ]
    }
   ],
   "source": [
    "days=[\"mon\",\"tue\",\"wed\",\"thu\",\"fri\",\"sat\",\"sun\"]\n",
    "toon_list_link=[]\n",
    "for day in days:\n",
    "    First_Page=\"http://comic.naver.com/webtoon/weekdayList.nhn?week=\"+day\n",
    "    day_toons_num=a()\n",
    "    print(day+\"-day start\")\n",
    "    for toon_num in range(day_toons_num):\n",
    "        driver.get(First_Page)\n",
    "        day_webtoons = driver.find_elements_by_xpath(\"\"\"//*[@id=\"content\"]/div[3]/ul/li\"\"\")\n",
    "        day_webtoons[toon_num].find_element_by_tag_name(\"dt\").click()\n",
    "        wait(0)\n",
    "        try:\n",
    "            go_first=driver.find_element_by_xpath(\"\"\"//*[@id=\"content\"]/div[1]/div[2]/ul/li[2]/a\"\"\")\n",
    "        except:\n",
    "            go_first=driver.find_element_by_xpath(\"\"\"//*[@id=\"content\"]/div[2]/div[2]/ul/li[2]/a\"\"\")\n",
    "        go_first.click()\n",
    "        wait(0)\n",
    "        try:\n",
    "            count=1\n",
    "            while(True):\n",
    "                next_loop=\"\"\"#content > div.section_cont.wide > div.tit_area > div.view > div > span > a\"\"\"\n",
    "                noxt_loop_=\"\"\"#content > div.section_cont.wide > div.tit_area > div.view > div > span.next > a\"\"\"\n",
    "                path=\"\"\"//*[@id=\"comic_view_area\"]/div[1]\"\"\"\n",
    "                for i in range(len(driver.find_element_by_xpath(path).find_elements_by_tag_name(\"img\"))):\n",
    "                    toon_path=driver.find_element_by_xpath(path).find_elements_by_tag_name(\"img\")[i].get_attribute(\"src\")\n",
    "                    #toon_list_link.append(toon_path)\n",
    "                    print(toon_path)\n",
    "                    #print(driver.get_cookies())\n",
    "                    \n",
    "                if(count==1):\n",
    "                    driver.find_element_by_css_selector(next_loop).click()\n",
    "                else:\n",
    "                    driver.find_element_by_css_selector(noxt_loop_).click()\n",
    "                    print(\"Next page\")\n",
    "                #make_dir(\"./first\"+str(count))\n",
    "                count+=1\n",
    "        except:\n",
    "            print(\"ERROR\")\n",
    "            \n",
    "            "
   ]
  },
  {
   "cell_type": "code",
   "execution_count": 11,
   "metadata": {},
   "outputs": [],
   "source": [
    "driver.get('''http://imgcomic.naver.net/webtoon/183559/1/20100630151359_IMAG01_1.jpg''')"
   ]
  },
  {
   "cell_type": "code",
   "execution_count": 12,
   "metadata": {},
   "outputs": [],
   "source": [
    "q=driver.find_element_by_xpath(\"\"\"/html/body/img\"\"\")"
   ]
  },
  {
   "cell_type": "code",
   "execution_count": 24,
   "metadata": {},
   "outputs": [],
   "source": [
    "driver.set_window_size(11111111111111111111111111111,2222222222222222222222222)"
   ]
  },
  {
   "cell_type": "code",
   "execution_count": null,
   "metadata": {},
   "outputs": [],
   "source": [
    "driver.save_screenshot('qwe.png')"
   ]
  },
  {
   "cell_type": "code",
   "execution_count": null,
   "metadata": {},
   "outputs": [],
   "source": []
  }
 ],
 "metadata": {
  "kernelspec": {
   "display_name": "Python 3",
   "language": "python",
   "name": "python3"
  },
  "language_info": {
   "codemirror_mode": {
    "name": "ipython",
    "version": 3
   },
   "file_extension": ".py",
   "mimetype": "text/x-python",
   "name": "python",
   "nbconvert_exporter": "python",
   "pygments_lexer": "ipython3",
   "version": "3.6.4"
  }
 },
 "nbformat": 4,
 "nbformat_minor": 2
}
